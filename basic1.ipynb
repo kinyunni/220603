{
  "nbformat": 4,
  "nbformat_minor": 0,
  "metadata": {
    "colab": {
      "name": "basic1.ipynb",
      "provenance": [],
      "authorship_tag": "ABX9TyOX3lE/Qgxk/OV06WADYQnB",
      "include_colab_link": true
    },
    "kernelspec": {
      "name": "python3",
      "display_name": "Python 3"
    },
    "language_info": {
      "name": "python"
    }
  },
  "cells": [
    {
      "cell_type": "markdown",
      "metadata": {
        "id": "view-in-github",
        "colab_type": "text"
      },
      "source": [
        "<a href=\"https://colab.research.google.com/github/kinyunni/220603/blob/main/basic1.ipynb\" target=\"_parent\"><img src=\"https://colab.research.google.com/assets/colab-badge.svg\" alt=\"Open In Colab\"/></a>"
      ]
    },
    {
      "cell_type": "code",
      "execution_count": null,
      "metadata": {
        "colab": {
          "base_uri": "https://localhost:8080/"
        },
        "id": "TsnO84c_9Vfy",
        "outputId": "af175fc9-cec4-4779-9f34-fc581c8cd3f2"
      },
      "outputs": [
        {
          "output_type": "stream",
          "name": "stdout",
          "text": [
            "안녕 파이썬!\n"
          ]
        }
      ],
      "source": [
        "print(\"안녕 파이썬!\")"
      ]
    },
    {
      "cell_type": "markdown",
      "source": [
        "문자가 들어가는 것은 무조건 \"\"또는''이 들어가야 한다."
      ],
      "metadata": {
        "id": "rbvlMfBw_63W"
      }
    },
    {
      "cell_type": "code",
      "source": [
        "print(5+5)"
      ],
      "metadata": {
        "colab": {
          "base_uri": "https://localhost:8080/"
        },
        "id": "JNmzQBicABOe",
        "outputId": "2f25e3d7-02fb-4aef-ae2c-4fdb7e6eda81"
      },
      "execution_count": null,
      "outputs": [
        {
          "output_type": "stream",
          "name": "stdout",
          "text": [
            "10\n"
          ]
        }
      ]
    },
    {
      "cell_type": "markdown",
      "source": [
        "숫자가 들어가는 것은 숫자형이다. 더 자세히 이야기 하면 정수형과 실수형으로 나뉜다."
      ],
      "metadata": {
        "id": "oV6KuOq0AGzu"
      }
    },
    {
      "cell_type": "code",
      "source": [
        "print(\"3개의 정수값을 입력하시오.\")\n",
        "Int1 = int(input(\"첫번째 값을 입력하시오.:\"))\n",
        "Int2 = int(input(\"두번째 값을 입력하시오.:\"))\n",
        "Int3 = int(input(\"세번째 값을 입력하시오.:\"))\n",
        "print(Int1, Int2, Int3)\n",
        "sum = Int1 + Int2 + Int3\n",
        "print(sum)"
      ],
      "metadata": {
        "colab": {
          "base_uri": "https://localhost:8080/"
        },
        "id": "VRc8uR6nA55O",
        "outputId": "24204482-e10e-4d0c-8470-ca068e0deb42"
      },
      "execution_count": null,
      "outputs": [
        {
          "output_type": "stream",
          "name": "stdout",
          "text": [
            "3개의 정수값을 입력하시오.\n",
            "첫번째 값을 입력하시오.:5\n",
            "두번째 값을 입력하시오.:4\n",
            "세번째 값을 입력하시오.:2\n",
            "5 4 2\n",
            "11\n"
          ]
        }
      ]
    },
    {
      "cell_type": "code",
      "source": [
        "total = 0\n",
        "counter = 1\n",
        "while counter <= 10:\n",
        "  grade = int(input(\"점수를 입력하시오.:\"))\n",
        "  total = grade + total\n",
        "  counter = counter + 1\n",
        "print(total)\n",
        "aver = total / 10\n",
        "print(aver)"
      ],
      "metadata": {
        "colab": {
          "base_uri": "https://localhost:8080/",
          "height": 431
        },
        "id": "3x3VDGOCC0ut",
        "outputId": "624f8ae5-8c96-48e2-8fa4-96868f9e996c"
      },
      "execution_count": null,
      "outputs": [
        {
          "name": "stdout",
          "output_type": "stream",
          "text": [
            "점수를 입력하시오.:10\n",
            "점수를 입력하시오.:20\n",
            "점수를 입력하시오.:30\n",
            "점수를 입력하시오.:40\n",
            "점수를 입력하시오.:50\n",
            "점수를 입력하시오.:60\n",
            "점수를 입력하시오.:70\n",
            "점수를 입력하시오.:80\n",
            "점수를 입력하시오.:90\n",
            "점수를 입력하시오.:100\n"
          ]
        },
        {
          "output_type": "error",
          "ename": "TypeError",
          "evalue": "ignored",
          "traceback": [
            "\u001b[0;31m---------------------------------------------------------------------------\u001b[0m",
            "\u001b[0;31mTypeError\u001b[0m                                 Traceback (most recent call last)",
            "\u001b[0;32m<ipython-input-17-def0b5dcebac>\u001b[0m in \u001b[0;36m<module>\u001b[0;34m()\u001b[0m\n\u001b[1;32m      5\u001b[0m   \u001b[0mtotal\u001b[0m \u001b[0;34m=\u001b[0m \u001b[0mgrade\u001b[0m \u001b[0;34m+\u001b[0m \u001b[0mtotal\u001b[0m\u001b[0;34m\u001b[0m\u001b[0;34m\u001b[0m\u001b[0m\n\u001b[1;32m      6\u001b[0m   \u001b[0mcounter\u001b[0m \u001b[0;34m=\u001b[0m \u001b[0mcounter\u001b[0m \u001b[0;34m+\u001b[0m \u001b[0;36m1\u001b[0m\u001b[0;34m\u001b[0m\u001b[0;34m\u001b[0m\u001b[0m\n\u001b[0;32m----> 7\u001b[0;31m \u001b[0mprint\u001b[0m\u001b[0;34m(\u001b[0m\u001b[0mtotal\u001b[0m\u001b[0;34m)\u001b[0m\u001b[0;34m\u001b[0m\u001b[0;34m\u001b[0m\u001b[0m\n\u001b[0m\u001b[1;32m      8\u001b[0m \u001b[0maver\u001b[0m \u001b[0;34m=\u001b[0m \u001b[0mtotal\u001b[0m \u001b[0;34m/\u001b[0m \u001b[0;36m10\u001b[0m\u001b[0;34m\u001b[0m\u001b[0;34m\u001b[0m\u001b[0m\n\u001b[1;32m      9\u001b[0m \u001b[0mprint\u001b[0m\u001b[0;34m(\u001b[0m\u001b[0maver\u001b[0m\u001b[0;34m)\u001b[0m\u001b[0;34m\u001b[0m\u001b[0;34m\u001b[0m\u001b[0m\n",
            "\u001b[0;31mTypeError\u001b[0m: 'int' object is not callable"
          ]
        }
      ]
    },
    {
      "cell_type": "code",
      "source": [
        "pay_rate = int(input(\"시급을 입력하시오. 2022년 6월기준 9160:\"))\n",
        "hour_work = int(input(\"일한 시간을 입력하시오.:\"))\n",
        "mon_pay = pay_rate * hour_work\n",
        "print(mon_pay)"
      ],
      "metadata": {
        "colab": {
          "base_uri": "https://localhost:8080/",
          "height": 248
        },
        "id": "p7Dh60OKMImE",
        "outputId": "673f723b-4caa-4dd9-9a99-d9d39a22d09c"
      },
      "execution_count": null,
      "outputs": [
        {
          "name": "stdout",
          "output_type": "stream",
          "text": [
            "시급을 입력하시오. 2022년 6월기준 9160:9160\n",
            "일한 시간을 입력하시오.:72\n"
          ]
        },
        {
          "output_type": "error",
          "ename": "TypeError",
          "evalue": "ignored",
          "traceback": [
            "\u001b[0;31m---------------------------------------------------------------------------\u001b[0m",
            "\u001b[0;31mTypeError\u001b[0m                                 Traceback (most recent call last)",
            "\u001b[0;32m<ipython-input-19-dd8e5d9f4a7f>\u001b[0m in \u001b[0;36m<module>\u001b[0;34m()\u001b[0m\n\u001b[1;32m      2\u001b[0m \u001b[0mhour_work\u001b[0m \u001b[0;34m=\u001b[0m \u001b[0mint\u001b[0m\u001b[0;34m(\u001b[0m\u001b[0minput\u001b[0m\u001b[0;34m(\u001b[0m\u001b[0;34m\"일한 시간을 입력하시오.:\"\u001b[0m\u001b[0;34m)\u001b[0m\u001b[0;34m)\u001b[0m\u001b[0;34m\u001b[0m\u001b[0;34m\u001b[0m\u001b[0m\n\u001b[1;32m      3\u001b[0m \u001b[0mmon_pay\u001b[0m \u001b[0;34m=\u001b[0m \u001b[0mpay_rate\u001b[0m \u001b[0;34m*\u001b[0m \u001b[0mhour_work\u001b[0m\u001b[0;34m\u001b[0m\u001b[0;34m\u001b[0m\u001b[0m\n\u001b[0;32m----> 4\u001b[0;31m \u001b[0mprint\u001b[0m\u001b[0;34m(\u001b[0m\u001b[0mmon_pay\u001b[0m\u001b[0;34m)\u001b[0m\u001b[0;34m\u001b[0m\u001b[0;34m\u001b[0m\u001b[0m\n\u001b[0m",
            "\u001b[0;31mTypeError\u001b[0m: 'int' object is not callable"
          ]
        }
      ]
    }
  ]
}